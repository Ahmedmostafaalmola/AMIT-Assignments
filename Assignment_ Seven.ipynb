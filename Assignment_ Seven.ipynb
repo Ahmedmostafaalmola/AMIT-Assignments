{
 "cells": [
  {
   "cell_type": "code",
   "execution_count": 37,
   "id": "65b63279-8bb0-4c00-b972-dfcc6afa0e0b",
   "metadata": {},
   "outputs": [],
   "source": [
    "import numpy as np"
   ]
  },
  {
   "cell_type": "code",
   "execution_count": 39,
   "id": "370c5374-0756-4fb1-a1e4-c7db963a161b",
   "metadata": {},
   "outputs": [
    {
     "name": "stdout",
     "output_type": "stream",
     "text": [
      "None of the elements are zero: True\n"
     ]
    }
   ],
   "source": [
    "# 1. Test whether none of the elements of a given array is zero\n",
    "def test_no_zero(array):\n",
    "    return np.all(array != 0)\n",
    "\n",
    "# Example\n",
    "array_example1 = np.array([1, 2, 3])\n",
    "print(\"None of the elements are zero:\", test_no_zero(array_example1))"
   ]
  },
  {
   "cell_type": "code",
   "execution_count": 41,
   "id": "e77730f6-e422-4887-9bc9-a4e13018325e",
   "metadata": {},
   "outputs": [
    {
     "name": "stdout",
     "output_type": "stream",
     "text": [
      "Any element is non-zero: True\n"
     ]
    }
   ],
   "source": [
    "# 2. Test whether any of the elements of a given array is non-zero\n",
    "def test_any_non_zero(array):\n",
    "    return np.any(array != 0)\n",
    "\n",
    "# Example\n",
    "array_example2 = np.array([0, 0, 3])\n",
    "print(\"Any element is non-zero:\", test_any_non_zero(array_example2))"
   ]
  },
  {
   "cell_type": "code",
   "execution_count": 43,
   "id": "89c28ac9-8cd7-4028-b28e-25cc0b05e211",
   "metadata": {},
   "outputs": [
    {
     "name": "stdout",
     "output_type": "stream",
     "text": [
      "Comparison (exact, close): (False, False)\n"
     ]
    }
   ],
   "source": [
    "# 3. Element-wise comparison of two arrays (equal, equal within tolerance)\n",
    "def compare_arrays(arr1, arr2):\n",
    "    exact = np.array_equal(arr1, arr2)\n",
    "    close = np.allclose(arr1, arr2)\n",
    "    return exact, close\n",
    "\n",
    "# Example\n",
    "arr1 = np.array([1.0, 2.0, 3.0])\n",
    "arr2 = np.array([1.0, 2.0, 3.001])\n",
    "print(\"Comparison (exact, close):\", compare_arrays(arr1, arr2))"
   ]
  },
  {
   "cell_type": "code",
   "execution_count": 45,
   "id": "a54ed862-2f5d-4dcb-9fd1-55aee152c9e2",
   "metadata": {},
   "outputs": [
    {
     "name": "stdout",
     "output_type": "stream",
     "text": [
      "Array of 10 zeros, 10 ones, and 10 fives: [0. 0. 0. 0. 0. 0. 0. 0. 0. 0. 1. 1. 1. 1. 1. 1. 1. 1. 1. 1. 5. 5. 5. 5.\n",
      " 5. 5. 5. 5. 5. 5.]\n"
     ]
    }
   ],
   "source": [
    "# 4. Create an array of 10 zeros, 10 ones, and 10 fives\n",
    "array_zeros_ones_fives = np.concatenate((np.zeros(10), np.ones(10), np.full(10, 5)))\n",
    "\n",
    "# Example\n",
    "print(\"Array of 10 zeros, 10 ones, and 10 fives:\", array_zeros_ones_fives)\n"
   ]
  },
  {
   "cell_type": "code",
   "execution_count": 47,
   "id": "d85f3a86-9d16-4f9c-a069-d70dd1d897d5",
   "metadata": {},
   "outputs": [
    {
     "name": "stdout",
     "output_type": "stream",
     "text": [
      "Array from 30 to 70: [30 31 32 33 34 35 36 37 38 39 40 41 42 43 44 45 46 47 48 49 50 51 52 53\n",
      " 54 55 56 57 58 59 60 61 62 63 64 65 66 67 68 69 70]\n"
     ]
    }
   ],
   "source": [
    "# 5. Create an array of integers from 30 to 70\n",
    "array_30_to_70 = np.arange(30, 71)\n",
    "\n",
    "# Example\n",
    "print(\"Array from 30 to 70:\", array_30_to_70)"
   ]
  },
  {
   "cell_type": "code",
   "execution_count": 49,
   "id": "07da0c24-572b-40ab-a68c-cdd3e4a9830a",
   "metadata": {},
   "outputs": [
    {
     "name": "stdout",
     "output_type": "stream",
     "text": [
      "3x3 Identity Matrix:\n",
      " [[1. 0. 0.]\n",
      " [0. 1. 0.]\n",
      " [0. 0. 1.]]\n"
     ]
    }
   ],
   "source": [
    "# 6. Create a 3x3 identity matrix\n",
    "identity_matrix = np.eye(3)\n",
    "\n",
    "# Example\n",
    "print(\"3x3 Identity Matrix:\\n\", identity_matrix)"
   ]
  },
  {
   "cell_type": "code",
   "execution_count": 51,
   "id": "dbbead02-09ce-4267-804f-d3579bdc8fca",
   "metadata": {},
   "outputs": [
    {
     "name": "stdout",
     "output_type": "stream",
     "text": [
      "Random number between 0 and 1: 0.3837319965186333\n"
     ]
    }
   ],
   "source": [
    "# 7. Generate a random number between 0 and 1\n",
    "random_number = np.random.rand()\n",
    "\n",
    "# Example\n",
    "print(\"Random number between 0 and 1:\", random_number)\n"
   ]
  },
  {
   "cell_type": "code",
   "execution_count": 53,
   "id": "ae59ed7e-742c-441d-becd-3a679bdaa426",
   "metadata": {},
   "outputs": [
    {
     "name": "stdout",
     "output_type": "stream",
     "text": [
      "15 random numbers from standard normal distribution: [-0.09708278 -0.84793818  0.11980281  0.5295909  -0.19837183 -1.61300516\n",
      " -0.02974994  0.42402975  1.40087503  2.00874418 -0.32011147 -0.02534397\n",
      " -0.71999993 -0.55456636  0.5859385 ]\n"
     ]
    }
   ],
   "source": [
    "# 8. Generate an array of 15 random numbers from a standard normal distribution\n",
    "random_normal_array = np.random.randn(15)\n",
    "\n",
    "# Example\n",
    "print(\"15 random numbers from standard normal distribution:\", random_normal_array)\n"
   ]
  },
  {
   "cell_type": "code",
   "execution_count": 55,
   "id": "ed1d0392-7e93-44ba-bec1-984eedbd5ddb",
   "metadata": {},
   "outputs": [
    {
     "name": "stdout",
     "output_type": "stream",
     "text": [
      "Vector from 15 to 55 excluding first and last: [16 17 18 19 20 21 22 23 24 25 26 27 28 29 30 31 32 33 34 35 36 37 38 39\n",
      " 40 41 42 43 44 45 46 47 48 49 50 51 52 53 54]\n"
     ]
    }
   ],
   "source": [
    "# 9. Create a vector with values from 15 to 55, excluding the first and last\n",
    "vector_15_to_55 = np.arange(15, 56)[1:-1]\n",
    "\n",
    "# Example\n",
    "print(\"Vector from 15 to 55 excluding first and last:\", vector_15_to_55)\n"
   ]
  },
  {
   "cell_type": "code",
   "execution_count": 57,
   "id": "93f42eb9-8c79-4fae-864c-db5e654ff7e4",
   "metadata": {},
   "outputs": [
    {
     "name": "stdout",
     "output_type": "stream",
     "text": [
      "Vector of 5 random integers from 0 to 10: [6 7 3 6 5]\n"
     ]
    }
   ],
   "source": [
    "# 10. Create a vector of length 5 filled with arbitrary integers from 0 to 10\n",
    "vector_random_integers = np.random.randint(0, 11, 5)\n",
    "\n",
    "# Example\n",
    "print(\"Vector of 5 random integers from 0 to 10:\", vector_random_integers)\n"
   ]
  },
  {
   "cell_type": "code",
   "execution_count": 59,
   "id": "aa5377cd-ff27-4498-bb43-039c09274515",
   "metadata": {},
   "outputs": [
    {
     "name": "stdout",
     "output_type": "stream",
     "text": [
      "10x10 Matrix with border as 1 and inside as 0:\n",
      " [[1. 1. 1. 1. 1. 1. 1. 1. 1. 1.]\n",
      " [1. 0. 0. 0. 0. 0. 0. 0. 0. 1.]\n",
      " [1. 0. 0. 0. 0. 0. 0. 0. 0. 1.]\n",
      " [1. 0. 0. 0. 0. 0. 0. 0. 0. 1.]\n",
      " [1. 0. 0. 0. 0. 0. 0. 0. 0. 1.]\n",
      " [1. 0. 0. 0. 0. 0. 0. 0. 0. 1.]\n",
      " [1. 0. 0. 0. 0. 0. 0. 0. 0. 1.]\n",
      " [1. 0. 0. 0. 0. 0. 0. 0. 0. 1.]\n",
      " [1. 0. 0. 0. 0. 0. 0. 0. 0. 1.]\n",
      " [1. 1. 1. 1. 1. 1. 1. 1. 1. 1.]]\n"
     ]
    }
   ],
   "source": [
    "# 11. Create a 10x10 matrix with border elements as 1 and inside as 0\n",
    "border_matrix = np.ones((10, 10))\n",
    "border_matrix[1:-1, 1:-1] = 0\n",
    "\n",
    "# Example\n",
    "print(\"10x10 Matrix with border as 1 and inside as 0:\\n\", border_matrix)\n"
   ]
  },
  {
   "cell_type": "code",
   "execution_count": 61,
   "id": "c7dcfcc8-ee43-4275-9cd5-322dad25a45d",
   "metadata": {},
   "outputs": [
    {
     "name": "stdout",
     "output_type": "stream",
     "text": [
      "5x5 Matrix with diagonal 1 to 5:\n",
      " [[1. 0. 0. 0. 0.]\n",
      " [0. 2. 0. 0. 0.]\n",
      " [0. 0. 3. 0. 0.]\n",
      " [0. 0. 0. 4. 0.]\n",
      " [0. 0. 0. 0. 5.]]\n"
     ]
    }
   ],
   "source": [
    "# 12. Create a 5x5 zero matrix with main diagonal elements as 1, 2, 3, 4, 5\n",
    "diagonal_matrix = np.zeros((5, 5))\n",
    "np.fill_diagonal(diagonal_matrix, np.arange(1, 6))\n",
    "\n",
    "# Example\n",
    "print(\"5x5 Matrix with diagonal 1 to 5:\\n\", diagonal_matrix)\n"
   ]
  },
  {
   "cell_type": "code",
   "execution_count": 63,
   "id": "23646180-f0d0-4d54-ba3f-684618be71b1",
   "metadata": {},
   "outputs": [
    {
     "name": "stdout",
     "output_type": "stream",
     "text": [
      "4x4 Staggered Matrix:\n",
      " [[0 1 0 1]\n",
      " [1 0 1 0]\n",
      " [0 1 0 1]\n",
      " [1 0 1 0]]\n"
     ]
    }
   ],
   "source": [
    "# 13. Create a 4x4 matrix with 0 and 1 staggered, zeros on the main diagonal\n",
    "staggered_matrix = np.zeros((4, 4), dtype=int)\n",
    "staggered_matrix[::2, 1::2] = 1\n",
    "staggered_matrix[1::2, ::2] = 1\n",
    "\n",
    "# Example\n",
    "print(\"4x4 Staggered Matrix:\\n\", staggered_matrix)"
   ]
  },
  {
   "cell_type": "code",
   "execution_count": 65,
   "id": "25c29ac5-546a-4434-9120-8676716995e3",
   "metadata": {},
   "outputs": [
    {
     "name": "stdout",
     "output_type": "stream",
     "text": [
      "Loaded arrays: (array([1, 2, 3]), array([4, 5, 6]))\n"
     ]
    }
   ],
   "source": [
    "# 14. Save two arrays into a single compressed file and load it\n",
    "def save_and_load_arrays(arr1, arr2):\n",
    "    np.savez_compressed('arrays_compressed.npz', array1=arr1, array2=arr2)\n",
    "    data = np.load('arrays_compressed.npz')\n",
    "    return data['array1'], data['array2']\n",
    "\n",
    "# Example\n",
    "array1 = np.array([1, 2, 3])\n",
    "array2 = np.array([4, 5, 6])\n",
    "saved_arrays = save_and_load_arrays(array1, array2)\n",
    "print(\"Loaded arrays:\", saved_arrays)"
   ]
  },
  {
   "cell_type": "code",
   "execution_count": 67,
   "id": "7923771d-168b-4db9-9c94-0464f4b8c143",
   "metadata": {},
   "outputs": [
    {
     "name": "stdout",
     "output_type": "stream",
     "text": [
      "40 random values: [0.44216612 0.31627777 0.86021563 0.96450698 0.35526888 0.772797\n",
      " 0.67112623 0.22046776 0.90464083 0.99327643 0.12206223 0.6589081\n",
      " 0.58213562 0.77340508 0.74926088 0.46672547 0.08293772 0.89792565\n",
      " 0.92537032 0.51222065 0.76493986 0.73731602 0.41422638 0.76848847\n",
      " 0.30081417 0.4345995  0.07750654 0.52581794 0.01118877 0.72057608\n",
      " 0.4538286  0.04184649 0.05032932 0.0497849  0.29707126 0.35509809\n",
      " 0.42755042 0.97671173 0.77688831 0.40766613]\n"
     ]
    }
   ],
   "source": [
    "# 15. Create a one-dimensional array of 40 pseudo-randomly generated values\n",
    "random_array_40 = np.random.rand(40)\n",
    "\n",
    "# Example\n",
    "print(\"40 random values:\", random_array_40)"
   ]
  },
  {
   "cell_type": "code",
   "execution_count": 69,
   "id": "67702ed2-83dc-40fe-9338-8829cf28b8c8",
   "metadata": {},
   "outputs": [
    {
     "name": "stdout",
     "output_type": "stream",
     "text": [
      "Extracted values: [10 50]\n"
     ]
    }
   ],
   "source": [
    "# 16. Extract all numbers from a given array less and greater than a specified number\n",
    "def extract_by_condition(array, low, high):\n",
    "    return array[(array < low) | (array > high)]\n",
    "\n",
    "# Example\n",
    "array_example3 = np.array([10, 20, 30, 40, 50])\n",
    "print(\"Extracted values:\", extract_by_condition(array_example3, 15, 45))\n"
   ]
  }
 ],
 "metadata": {
  "kernelspec": {
   "display_name": "Python 3 (ipykernel)",
   "language": "python",
   "name": "python3"
  },
  "language_info": {
   "codemirror_mode": {
    "name": "ipython",
    "version": 3
   },
   "file_extension": ".py",
   "mimetype": "text/x-python",
   "name": "python",
   "nbconvert_exporter": "python",
   "pygments_lexer": "ipython3",
   "version": "3.12.4"
  }
 },
 "nbformat": 4,
 "nbformat_minor": 5
}
