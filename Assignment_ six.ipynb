{
 "cells": [
  {
   "cell_type": "code",
   "execution_count": 9,
   "id": "f5a5899c-fe64-4c5f-9280-3dc906508ee8",
   "metadata": {},
   "outputs": [
    {
     "name": "stdout",
     "output_type": "stream",
     "text": [
      "Addition: 9\n",
      "Subtraction: 3\n",
      "Multiplication: 18\n",
      "Division: 2.0\n"
     ]
    }
   ],
   "source": [
    "# Task 1\n",
    "class Calculator:\n",
    "    def add(self, a, b):\n",
    "        return a + b\n",
    "\n",
    "    def subtract(self, a, b):\n",
    "        return a - b\n",
    "\n",
    "    def multiply(self, a, b):\n",
    "        return a * b\n",
    "\n",
    "    def divide(self, a, b):\n",
    "        if b != 0:\n",
    "            return a / b\n",
    "        else:\n",
    "            return \"Error! Division by zero.\"\n",
    "\n",
    "calc = Calculator()\n",
    "print(\"Addition:\", calc.add(6, 3))\n",
    "print(\"Subtraction:\", calc.subtract(6, 3))\n",
    "print(\"Multiplication:\", calc.multiply(6, 3))\n",
    "print(\"Division:\", calc.divide(6, 3))"
   ]
  },
  {
   "cell_type": "code",
   "execution_count": 11,
   "id": "1413688f-eeb6-47a4-af1e-5817cbb15d78",
   "metadata": {},
   "outputs": [
    {
     "name": "stdout",
     "output_type": "stream",
     "text": [
      "Length: 10\n",
      "Width: 5\n",
      "Perimeter: 30\n",
      "Area: 50\n",
      "Volume of Parallelepiped: 400\n"
     ]
    }
   ],
   "source": [
    "# Task 2\n",
    "class Rectangle:\n",
    "    def __init__(self, length, width):\n",
    "        self.length = length\n",
    "        self.width = width\n",
    "\n",
    "    def perimeter(self):\n",
    "        return 2 * (self.length + self.width)\n",
    "\n",
    "    def area(self):\n",
    "        return self.length * self.width\n",
    "\n",
    "    def display(self):\n",
    "        print(f\"Length: {self.length}\")\n",
    "        print(f\"Width: {self.width}\")\n",
    "        print(f\"Perimeter: {self.perimeter()}\")\n",
    "        print(f\"Area: {self.area()}\")\n",
    "\n",
    "class Parallelepiped(Rectangle):\n",
    "    def __init__(self, length, width, height):\n",
    "        super().__init__(length, width)\n",
    "        self.height = height\n",
    "\n",
    "    def volume(self):\n",
    "        return self.area() * self.height\n",
    "\n",
    "rect = Rectangle(10, 5)\n",
    "rect.display()\n",
    "para = Parallelepiped(10, 5, 8)\n",
    "print(f\"Volume of Parallelepiped: {para.volume()}\")"
   ]
  },
  {
   "cell_type": "code",
   "execution_count": 13,
   "id": "903e42a3-3538-4bf0-ab13-ac874d689379",
   "metadata": {},
   "outputs": [
    {
     "name": "stdout",
     "output_type": "stream",
     "text": [
      "Name: Ahmed\n",
      "Age: 40\n",
      "Name: Ali\n",
      "Age: 20\n",
      "Section: A\n"
     ]
    }
   ],
   "source": [
    "# Task 3\n",
    "class Person:\n",
    "    def __init__(self, name, age):\n",
    "        self.name = name\n",
    "        self.age = age\n",
    "\n",
    "    def display(self):\n",
    "        print(f\"Name: {self.name}\")\n",
    "        print(f\"Age: {self.age}\")\n",
    "\n",
    "class Student(Person):\n",
    "    def __init__(self, name, age, section):\n",
    "        super().__init__(name, age)\n",
    "        self.section = section\n",
    "\n",
    "    def displayStudent(self):\n",
    "        self.display()\n",
    "        print(f\"Section: {self.section}\")\n",
    "\n",
    "person = Person(\"Ahmed\", 40)\n",
    "person.display()\n",
    "student = Student(\"Ali\", 20, \"A\")\n",
    "student.displayStudent()"
   ]
  }
 ],
 "metadata": {
  "kernelspec": {
   "display_name": "Python 3 (ipykernel)",
   "language": "python",
   "name": "python3"
  },
  "language_info": {
   "codemirror_mode": {
    "name": "ipython",
    "version": 3
   },
   "file_extension": ".py",
   "mimetype": "text/x-python",
   "name": "python",
   "nbconvert_exporter": "python",
   "pygments_lexer": "ipython3",
   "version": "3.12.4"
  }
 },
 "nbformat": 4,
 "nbformat_minor": 5
}
