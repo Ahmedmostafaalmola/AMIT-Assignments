{
 "cells": [
  {
   "cell_type": "code",
   "execution_count": 83,
   "id": "76cff6b3-fa8e-46e8-afe0-938c2fb5b106",
   "metadata": {},
   "outputs": [
    {
     "name": "stdout",
     "output_type": "stream",
     "text": [
      "2\n",
      "4\n",
      "6\n",
      "8\n",
      "10\n",
      "12\n",
      "14\n",
      "16\n",
      "18\n",
      "20\n"
     ]
    }
   ],
   "source": [
    "# Task 1: Print Even Numbers\n",
    "# Write a function that prints all even numbers from 1 to 20.\n",
    "def print_even_numbers():\n",
    "    for num in range(1, 21):\n",
    "        if num % 2 == 0:\n",
    "            print(num)\n",
    "print_even_numbers()"
   ]
  },
  {
   "cell_type": "code",
   "execution_count": 85,
   "id": "56e049f8-5163-4b75-80ea-5095bfb3c3ef",
   "metadata": {},
   "outputs": [
    {
     "name": "stdout",
     "output_type": "stream",
     "text": [
      "3\n"
     ]
    }
   ],
   "source": [
    "# Task 2: Count Vowels in a String\n",
    "# Write a function that counts and prints the number of vowels in a given string.\n",
    "def count_vowels(s):\n",
    "    vowels = \"aeiouAEIOU\"\n",
    "    count = 0\n",
    "    for char in s:\n",
    "        if char in vowels:\n",
    "            count += 1\n",
    "    print(count)\n",
    "count_vowels(\"hello world\")"
   ]
  },
  {
   "cell_type": "code",
   "execution_count": 87,
   "id": "a632e344-2de7-419d-84dc-06bf3de171a4",
   "metadata": {},
   "outputs": [
    {
     "name": "stdout",
     "output_type": "stream",
     "text": [
      "8\n"
     ]
    }
   ],
   "source": [
    "# Task 3: Find Maximum in a List\n",
    "# Write a function to find the largest number in a given list.\n",
    "def find_max(lst):\n",
    "    if not lst:\n",
    "        return None\n",
    "    maximum = lst[0]\n",
    "    for num in lst:\n",
    "        if num > maximum:\n",
    "            maximum = num\n",
    "    return maximum\n",
    "print(find_max([3, 5, 7, 2, 8]))"
   ]
  },
  {
   "cell_type": "code",
   "execution_count": 47,
   "id": "480e8006-f745-4c83-9260-0131eebdfddb",
   "metadata": {},
   "outputs": [
    {
     "name": "stdout",
     "output_type": "stream",
     "text": [
      "True\n",
      "False\n"
     ]
    }
   ],
   "source": [
    "# Task 4: Check for Prime Numbers\n",
    "# Write a function that checks if a given number is prime.\n",
    "def is_prime(n):\n",
    "    if n < 2:\n",
    "        return False\n",
    "    for i in range(2, int(n**0.5) + 1):\n",
    "        if n % i == 0:\n",
    "            return False\n",
    "    return True\n",
    "print(is_prime(7))   \n",
    "print(is_prime(10))  "
   ]
  },
  {
   "cell_type": "code",
   "execution_count": 49,
   "id": "addbf884-6889-44ff-a70c-608bb1340409",
   "metadata": {},
   "outputs": [
    {
     "name": "stdout",
     "output_type": "stream",
     "text": [
      "1\n",
      "2\n",
      "Fizz\n",
      "4\n",
      "Buzz\n",
      "Fizz\n",
      "7\n",
      "8\n",
      "Fizz\n",
      "Buzz\n",
      "11\n",
      "Fizz\n",
      "13\n",
      "14\n",
      "FizzBuzz\n",
      "16\n",
      "17\n",
      "Fizz\n",
      "19\n",
      "Buzz\n",
      "Fizz\n",
      "22\n",
      "23\n",
      "Fizz\n",
      "Buzz\n",
      "26\n",
      "Fizz\n",
      "28\n",
      "29\n",
      "FizzBuzz\n",
      "31\n",
      "32\n",
      "Fizz\n",
      "34\n",
      "Buzz\n",
      "Fizz\n",
      "37\n",
      "38\n",
      "Fizz\n",
      "Buzz\n",
      "41\n",
      "Fizz\n",
      "43\n",
      "44\n",
      "FizzBuzz\n",
      "46\n",
      "47\n",
      "Fizz\n",
      "49\n",
      "Buzz\n",
      "Fizz\n",
      "52\n",
      "53\n",
      "Fizz\n",
      "Buzz\n",
      "56\n",
      "Fizz\n",
      "58\n",
      "59\n",
      "FizzBuzz\n",
      "61\n",
      "62\n",
      "Fizz\n",
      "64\n",
      "Buzz\n",
      "Fizz\n",
      "67\n",
      "68\n",
      "Fizz\n",
      "Buzz\n",
      "71\n",
      "Fizz\n",
      "73\n",
      "74\n",
      "FizzBuzz\n",
      "76\n",
      "77\n",
      "Fizz\n",
      "79\n",
      "Buzz\n",
      "Fizz\n",
      "82\n",
      "83\n",
      "Fizz\n",
      "Buzz\n",
      "86\n",
      "Fizz\n",
      "88\n",
      "89\n",
      "FizzBuzz\n",
      "91\n",
      "92\n",
      "Fizz\n",
      "94\n",
      "Buzz\n",
      "Fizz\n",
      "97\n",
      "98\n",
      "Fizz\n",
      "Buzz\n"
     ]
    }
   ],
   "source": [
    "# Task 5: FizzBuzz\n",
    "# Write a function to print numbers from 1 to 100. For multiples of 3, print \"Fizz\"; for multiples of 5, print \"Buzz\"; and for multiples of both, print \"FizzBuzz\".\n",
    "def fizzbuzz():\n",
    "    for num in range(1, 101):\n",
    "        if num % 3 == 0 and num % 5 == 0:\n",
    "            print(\"FizzBuzz\")\n",
    "        elif num % 3 == 0:\n",
    "            print(\"Fizz\")\n",
    "        elif num % 5 == 0:\n",
    "            print(\"Buzz\")\n",
    "        else:\n",
    "            print(num)\n",
    "fizzbuzz()"
   ]
  },
  {
   "cell_type": "code",
   "execution_count": 51,
   "id": "82154de4-2695-48c3-8f73-62ac1ac309c9",
   "metadata": {},
   "outputs": [
    {
     "name": "stdout",
     "output_type": "stream",
     "text": [
      "5 x 1 = 5\n",
      "5 x 2 = 10\n",
      "5 x 3 = 15\n",
      "5 x 4 = 20\n",
      "5 x 5 = 25\n",
      "5 x 6 = 30\n",
      "5 x 7 = 35\n",
      "5 x 8 = 40\n",
      "5 x 9 = 45\n",
      "5 x 10 = 50\n"
     ]
    }
   ],
   "source": [
    "# Task 6: Generate Multiplication Table\n",
    "# Write a function to generate and print the multiplication table for a given number.\n",
    "def multiplication_table(n):\n",
    "    for i in range(1, 11):\n",
    "        print(f\"{n} x {i} = {n * i}\")\n",
    "multiplication_table(5)"
   ]
  },
  {
   "cell_type": "code",
   "execution_count": 53,
   "id": "e42de271-7bcb-4d94-8b2c-daf560af3350",
   "metadata": {},
   "outputs": [
    {
     "name": "stdout",
     "output_type": "stream",
     "text": [
      "0 1 1 2 3 5 8 13 21 34 \n"
     ]
    }
   ],
   "source": [
    "# Task 7: Print Fibonacci Sequence\n",
    "# Write a function to print the first `n` numbers in the Fibonacci sequence.\n",
    "def fibonacci(n):\n",
    "    a, b = 0, 1\n",
    "    for _ in range(n):\n",
    "        print(a, end=\" \")\n",
    "        a, b = b, a + b\n",
    "    print()\n",
    "fibonacci(10)"
   ]
  },
  {
   "cell_type": "code",
   "execution_count": 55,
   "id": "872ebff4-8f05-4d2b-b561-5f7b0bb59443",
   "metadata": {},
   "outputs": [
    {
     "name": "stdout",
     "output_type": "stream",
     "text": [
      "olleh\n"
     ]
    }
   ],
   "source": [
    "# Task 8: Reverse a String\n",
    "# Write a function to reverse a given string without using slicing.\n",
    "def reverse_string(s):\n",
    "    result = \"\"\n",
    "    for char in s:\n",
    "        result = char + result\n",
    "    return result\n",
    "print(reverse_string(\"hello\"))"
   ]
  },
  {
   "cell_type": "code",
   "execution_count": 57,
   "id": "719ac505-c09e-4cc6-8fbc-f86270b21635",
   "metadata": {},
   "outputs": [
    {
     "name": "stdout",
     "output_type": "stream",
     "text": [
      "1\n",
      "2\n",
      "3\n",
      "4\n",
      "5\n",
      "6\n",
      "7\n",
      "8\n",
      "9\n",
      "153\n",
      "370\n",
      "371\n",
      "407\n"
     ]
    }
   ],
   "source": [
    "# Task 9: Find Armstrong Numbers\n",
    "# Write a function to print all Armstrong numbers between 1 and 1000.\n",
    "def armstrong_numbers():\n",
    "    for num in range(1, 1001):\n",
    "        power = len(str(num))\n",
    "        if sum(int(digit) ** power for digit in str(num)) == num:\n",
    "            print(num)\n",
    "armstrong_numbers()"
   ]
  },
  {
   "cell_type": "code",
   "execution_count": 59,
   "id": "8bf77636-774d-4f43-b9f7-69ff72e71fd8",
   "metadata": {},
   "outputs": [
    {
     "name": "stdout",
     "output_type": "stream",
     "text": [
      "{'h': 1, 'e': 1, 'l': 3, 'o': 2, ' ': 1, 'w': 1, 'r': 1, 'd': 1}\n"
     ]
    }
   ],
   "source": [
    "# Task 10: Count Character Frequency\n",
    "# Write a function to count the frequency of each character in a string.\n",
    "def char_frequency(s):\n",
    "    freq = {}\n",
    "    for char in s:\n",
    "        if char in freq:\n",
    "            freq[char] += 1\n",
    "        else:\n",
    "            freq[char] = 1\n",
    "    return freq\n",
    "print(char_frequency(\"hello world\"))"
   ]
  },
  {
   "cell_type": "code",
   "execution_count": 61,
   "id": "ac444633-cbe8-4867-9ed2-3e4a162eb9d7",
   "metadata": {},
   "outputs": [
    {
     "name": "stdout",
     "output_type": "stream",
     "text": [
      "True\n",
      "False\n"
     ]
    }
   ],
   "source": [
    "# Task 11: Check for Palindrome.\n",
    "# Write a function that checks if a given string is a palindrome.\n",
    "def is_palindrome(s):\n",
    "    return s == s[::-1]\n",
    "print(is_palindrome(\"racecar\"))  \n",
    "print(is_palindrome(\"hello\"))    "
   ]
  },
  {
   "cell_type": "code",
   "execution_count": 63,
   "id": "2d017c4a-ca36-4212-af9b-260e7924036c",
   "metadata": {},
   "outputs": [
    {
     "name": "stdout",
     "output_type": "stream",
     "text": [
      "[1, 2, 3, 4, 6, 12]\n"
     ]
    }
   ],
   "source": [
    "# Task 12: Find Factors of a Number.\n",
    "# Write a function to find all factors of a given number.\n",
    "def find_factors(n):\n",
    "    return [i for i in range(1, n + 1) if n % i == 0]\n",
    "print(find_factors(12))"
   ]
  },
  {
   "cell_type": "code",
   "execution_count": 65,
   "id": "113128d3-25e8-4a6f-8d7a-6f1129e5f8dd",
   "metadata": {},
   "outputs": [
    {
     "name": "stdout",
     "output_type": "stream",
     "text": [
      "True\n",
      "False\n"
     ]
    }
   ],
   "source": [
    "# Task 13: Check Perfect Number.\n",
    "# Write a function to check if a number is a perfect number.\n",
    "def is_perfect(n):\n",
    "    return sum(i for i in range(1, n) if n % i == 0) == n\n",
    "print(is_perfect(6))  \n",
    "print(is_perfect(10))  "
   ]
  },
  {
   "cell_type": "code",
   "execution_count": 69,
   "id": "03074441-b1cb-4d81-b632-2489fa27f2d1",
   "metadata": {},
   "outputs": [
    {
     "name": "stdout",
     "output_type": "stream",
     "text": [
      "[3]\n"
     ]
    }
   ],
   "source": [
    "# Task 14: Find Common Elements\n",
    "# Write a function to find the common elements between two lists.\n",
    "def common_elements(list1, list2):\n",
    "    return list(set(list1) & set(list2))\n",
    "print(common_elements([1, 2, 3], [3, 4, 5]))"
   ]
  },
  {
   "cell_type": "code",
   "execution_count": 71,
   "id": "e123464b-83ed-4059-9154-f8f8ce968362",
   "metadata": {},
   "outputs": [
    {
     "name": "stdout",
     "output_type": "stream",
     "text": [
      "khoor\n"
     ]
    }
   ],
   "source": [
    "# Task 15: Caesar Cipher.\n",
    "# Write a function to implement a Caesar cipher that shifts letters by `n` positions in the alphabet.\n",
    "def caesar_cipher(text, shift):\n",
    "    result = \"\"\n",
    "    for char in text:\n",
    "        if char.isalpha():\n",
    "            start = ord('A') if char.isupper() else ord('a')\n",
    "            result += chr((ord(char) - start + shift) % 26 + start)\n",
    "        else:\n",
    "            result += char\n",
    "    return result\n",
    "print(caesar_cipher(\"hello\", 3))"
   ]
  },
  {
   "cell_type": "code",
   "execution_count": 81,
   "id": "554ee3d3-0f99-4b61-8297-e183f12c8f22",
   "metadata": {},
   "outputs": [
    {
     "name": "stdout",
     "output_type": "stream",
     "text": [
      "[1, 2, 4, 7]\n"
     ]
    }
   ],
   "source": [
    "# Task 16: Sort a List.\n",
    "# Write a function to sort a list of numbers in ascending order.\n",
    "def sort_list(list):\n",
    "    return sorted(list)\n",
    "print(sort_list([4, 2, 7, 1]))"
   ]
  },
  {
   "cell_type": "code",
   "execution_count": 77,
   "id": "da221a12-0d13-49fb-b368-64cedf657dd7",
   "metadata": {},
   "outputs": [
    {
     "name": "stdout",
     "output_type": "stream",
     "text": [
      "3\n"
     ]
    }
   ],
   "source": [
    "# Task 17: Find Missing Number in Range.\n",
    "# Write a function to find the missing number in a given range of numbers from 1 to `n`.\n",
    "def find_missing_number(lst, n):\n",
    "    expected_sum = n * (n + 1) // 2\n",
    "    actual_sum = sum(lst)\n",
    "    return expected_sum - actual_sum\n",
    "print(find_missing_number([1, 2, 4, 5], 5))"
   ]
  },
  {
   "cell_type": "code",
   "execution_count": 75,
   "id": "20079f7a-685c-4b74-af5e-323eca37d569",
   "metadata": {},
   "outputs": [
    {
     "name": "stdout",
     "output_type": "stream",
     "text": [
      "10\n"
     ]
    }
   ],
   "source": [
    "# Task 18: Binary to Decimal Conversion.\n",
    "# Write a function to convert a binary string to its decimal equivalent.\n",
    "def binary_to_decimal(binary):\n",
    "    return int(binary, 2)\n",
    "print(binary_to_decimal(\"1010\"))"
   ]
  }
 ],
 "metadata": {
  "kernelspec": {
   "display_name": "Python 3 (ipykernel)",
   "language": "python",
   "name": "python3"
  },
  "language_info": {
   "codemirror_mode": {
    "name": "ipython",
    "version": 3
   },
   "file_extension": ".py",
   "mimetype": "text/x-python",
   "name": "python",
   "nbconvert_exporter": "python",
   "pygments_lexer": "ipython3",
   "version": "3.12.4"
  }
 },
 "nbformat": 4,
 "nbformat_minor": 5
}
