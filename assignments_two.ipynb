{
 "cells": [
  {
   "cell_type": "markdown",
   "id": "55b50559-6102-4c97-9d63-bd3bf1d2d467",
   "metadata": {},
   "source": [
    "# Tuples exercises\n"
   ]
  },
  {
   "attachments": {},
   "cell_type": "markdown",
   "id": "a47ebd04-c797-4d12-8c26-a18bdbdfb884",
   "metadata": {},
   "source": [
    "### 1. Write a Python program to create a tuple of numbers and print one item.\n",
    "\n"
   ]
  },
  {
   "cell_type": "code",
   "execution_count": 12,
   "id": "f4fafb7a-1e1c-4e9b-947d-7d909dbb0daa",
   "metadata": {},
   "outputs": [
    {
     "name": "stdout",
     "output_type": "stream",
     "text": [
      "1\n"
     ]
    }
   ],
   "source": [
    "number=(1,2,3,4,5,6)\n",
    "print(number[0])"
   ]
  },
  {
   "cell_type": "markdown",
   "id": "5e4295d2-7a0d-4381-9e4b-b3fe9b9c0dee",
   "metadata": {},
   "source": [
    "### 2. Write a Python program to unpack a tuple into several variables.\n"
   ]
  },
  {
   "cell_type": "code",
   "execution_count": 35,
   "id": "7732d973-c792-4d3c-a8d1-5a00afe5f51d",
   "metadata": {},
   "outputs": [
    {
     "name": "stdout",
     "output_type": "stream",
     "text": [
      "1 2 3\n"
     ]
    }
   ],
   "source": [
    "numbers=(1,2,3)\n",
    "a,b,c = numbers\n",
    "print(a,b,c)"
   ]
  },
  {
   "cell_type": "markdown",
   "id": "4edd2b99-c6c6-4268-93a7-fb48a5b8392e",
   "metadata": {},
   "source": [
    "### 3. Write a Python program to add an item to a tuple at index number 2."
   ]
  },
  {
   "cell_type": "code",
   "execution_count": 43,
   "id": "90a1a7f5-d935-4d0c-b585-4e34fb8e434e",
   "metadata": {},
   "outputs": [
    {
     "name": "stdout",
     "output_type": "stream",
     "text": [
      "('apple', 'banana', 'orange', 'cherry')\n"
     ]
    }
   ],
   "source": [
    "x = ('apple', 'banana', 'cherry')\n",
    "item = 'orange'\n",
    "x = x[:2] + (item,) + x[2:]\n",
    "print(x)"
   ]
  },
  {
   "cell_type": "markdown",
   "id": "0e3a1329-7e0c-4893-b36f-b2634990be76",
   "metadata": {},
   "source": [
    "### 4. Write a Python program to convert a tuple to a string.\n",
    "### 1. ('e', 'x', 'e', 'r', 'c', 'i', 's', 'e', 's') => 'exercises'"
   ]
  },
  {
   "cell_type": "code",
   "execution_count": 41,
   "id": "f9eee918-4d0a-41f1-94a4-a73227ab8b50",
   "metadata": {},
   "outputs": [
    {
     "name": "stdout",
     "output_type": "stream",
     "text": [
      "exercises\n"
     ]
    }
   ],
   "source": [
    "my_tuple = ('e', 'x', 'e', 'r', 'c', 'i', 's', 'e', 's')\n",
    "result = ''.join(my_tuple)\n",
    "print(result)  "
   ]
  },
  {
   "cell_type": "markdown",
   "id": "7d1b3acd-a2a5-4ccf-98c5-69a86c222d0d",
   "metadata": {},
   "source": [
    "### 5. Write a Python program to find repeated items in a tuple."
   ]
  },
  {
   "cell_type": "code",
   "execution_count": 39,
   "id": "ca70226d-56af-4126-831c-fc7ff7fac6db",
   "metadata": {},
   "outputs": [
    {
     "name": "stdout",
     "output_type": "stream",
     "text": [
      "{1, 2}\n"
     ]
    }
   ],
   "source": [
    "x = (1,2,3,4,1,2)\n",
    "items = set(x)\n",
    "repeated_items = set()\n",
    "for i in items:\n",
    "    if x.count(i) > 1:\n",
    "        repeated_items.add(i)\n",
    "print(repeated_items)"
   ]
  },
  {
   "cell_type": "markdown",
   "id": "e0d4dcbb-626f-4385-93c0-e69113d24ce6",
   "metadata": {},
   "source": [
    "### 6. Write a Python program to remove an item from a tuple."
   ]
  },
  {
   "cell_type": "code",
   "execution_count": 6,
   "id": "af2fb8de-80b2-45fc-8095-635b953ffc1f",
   "metadata": {},
   "outputs": [
    {
     "name": "stdout",
     "output_type": "stream",
     "text": [
      "(1, 2, 4, 5)\n"
     ]
    }
   ],
   "source": [
    "x = (1, 2, 3, 4, 5)\n",
    "x = x[:2] + x[3:] \n",
    "print(x)"
   ]
  },
  {
   "cell_type": "markdown",
   "id": "fc4069ae-6976-4a00-9820-97e9a3ca1a86",
   "metadata": {},
   "source": [
    "### 7. Write a Python program to reverse a tuple."
   ]
  },
  {
   "cell_type": "code",
   "execution_count": 14,
   "id": "db0885f6-5f85-4fdb-b788-d9b635ef17fa",
   "metadata": {},
   "outputs": [
    {
     "name": "stdout",
     "output_type": "stream",
     "text": [
      "(5, 4, 3, 2, 1)\n"
     ]
    }
   ],
   "source": [
    "x = (1, 2, 3, 4, 5)\n",
    "y = x[::-1]\n",
    "print(y)"
   ]
  },
  {
   "cell_type": "markdown",
   "id": "1a314e53-27cb-4682-b1bf-b7c230a9afe6",
   "metadata": {},
   "source": [
    "### 8. Write a Python program to replace the last value of tuples in a list."
   ]
  },
  {
   "cell_type": "code",
   "execution_count": 16,
   "id": "cfaa2949-b0a3-4fce-a88a-7cefe2f99ac3",
   "metadata": {},
   "outputs": [
    {
     "name": "stdout",
     "output_type": "stream",
     "text": [
      "[(1, 2, 0), (4, 5, 0), (7, 8, 0)]\n"
     ]
    }
   ],
   "source": [
    "list_of_tuples = [(1, 2, 3), (4, 5, 6), (7, 8, 9)]\n",
    "new_list = [i[:-1] + (0,) for i in list_of_tuples]  \n",
    "print(new_list)"
   ]
  },
  {
   "cell_type": "markdown",
   "id": "98d11801-8ee8-41fc-a39c-18e3bb4ef011",
   "metadata": {},
   "source": [
    "   # List Exercises"
   ]
  },
  {
   "cell_type": "markdown",
   "id": "6cdaa43b-13f1-4599-98cd-d8b8d651f2bd",
   "metadata": {},
   "source": [
    "### 1. Create a list of your favorite fruits. Add another fruit to the end of the list using append()."
   ]
  },
  {
   "cell_type": "code",
   "execution_count": 18,
   "id": "b489785e-0b41-4e12-8f63-1186736ce8c9",
   "metadata": {},
   "outputs": [
    {
     "name": "stdout",
     "output_type": "stream",
     "text": [
      "['apple', 'banana', 'cherry', 'orange']\n"
     ]
    }
   ],
   "source": [
    "fruits = [\"apple\", \"banana\", \"cherry\"]\n",
    "fruits.append(\"orange\")\n",
    "print(fruits)"
   ]
  },
  {
   "cell_type": "markdown",
   "id": "1c4366b7-724d-4cb3-9792-d22612ef348c",
   "metadata": {},
   "source": [
    "### 2. Create two lists of numbers, then extend the first list by adding all elements from the second list using extend()"
   ]
  },
  {
   "cell_type": "code",
   "execution_count": 21,
   "id": "92a63472-4ae5-4b0c-96de-3d46384803b0",
   "metadata": {},
   "outputs": [
    {
     "name": "stdout",
     "output_type": "stream",
     "text": [
      "[1, 2, 3, 4, 5, 6]\n"
     ]
    }
   ],
   "source": [
    "list1 = [1, 2, 3]\n",
    "list2 = [4, 5, 6]\n",
    "list1.extend(list2)\n",
    "print(list1)"
   ]
  },
  {
   "cell_type": "markdown",
   "id": "0889c0e3-c9bc-4367-9d1d-59d023f1389b",
   "metadata": {},
   "source": [
    "### 3. insert(index, item) Start with a list of colors. Insert a new color at the second position (index 1)."
   ]
  },
  {
   "cell_type": "code",
   "execution_count": 23,
   "id": "943eae19-f454-49e3-a58d-67cd48ccfb40",
   "metadata": {},
   "outputs": [
    {
     "name": "stdout",
     "output_type": "stream",
     "text": [
      "['red', 'yellow', 'green', 'blue']\n"
     ]
    }
   ],
   "source": [
    "colors = [\"red\", \"green\", \"blue\"]\n",
    "colors.insert(1, \"yellow\")\n",
    "print(colors)"
   ]
  },
  {
   "cell_type": "markdown",
   "id": "f5d41af0-b4b1-491c-8253-863723b05be9",
   "metadata": {},
   "source": [
    "### 4. Create a list of city names with some duplicates. Use remove() to delete the first occurrence of a city"
   ]
  },
  {
   "cell_type": "code",
   "execution_count": 25,
   "id": "5c6fc125-6955-47c5-9c01-b1b46c18e672",
   "metadata": {},
   "outputs": [
    {
     "name": "stdout",
     "output_type": "stream",
     "text": [
      "['London', 'Cairo', 'Madrid']\n"
     ]
    }
   ],
   "source": [
    "cities = [\"Cairo\", \"London\", \"Cairo\", \"Madrid\"]\n",
    "cities.remove(\"Cairo\")\n",
    "print(cities)"
   ]
  },
  {
   "cell_type": "markdown",
   "id": "a1e9a0f0-1406-41a4-b34e-dacdce56e2dc",
   "metadata": {},
   "source": [
    "### 5. pop(index) Make a list of your favorite animals. Use pop() to remove the animal at the third position and store it in a variable."
   ]
  },
  {
   "cell_type": "code",
   "execution_count": 31,
   "id": "91f1f13a-4a90-4945-8bf7-693a411b7362",
   "metadata": {},
   "outputs": [
    {
     "name": "stdout",
     "output_type": "stream",
     "text": [
      "removed animal  :  rabbit\n",
      "favorite animals: ['cat', 'dog']\n"
     ]
    }
   ],
   "source": [
    "animals = [\"cat\", \"dog\", \"rabbit\"]\n",
    "removed_animal = animals.pop(2)  \n",
    "print(\"removed animal  : \",removed_animal)\n",
    "print(\"favorite animals:\",animals)"
   ]
  },
  {
   "cell_type": "markdown",
   "id": "382b9c0c-cfa1-4cb8-a5e7-6ad341072fb3",
   "metadata": {},
   "source": [
    "### 6. clear() Create a list of random numbers, then clear it using clear()."
   ]
  },
  {
   "cell_type": "code",
   "execution_count": 35,
   "id": "718f32a7-1969-46c7-9dfd-c2f64fcbb212",
   "metadata": {},
   "outputs": [
    {
     "name": "stdout",
     "output_type": "stream",
     "text": [
      "[]\n"
     ]
    }
   ],
   "source": [
    "numbers = [1, 2, 3, 4]\n",
    "numbers.clear()\n",
    "print(numbers)"
   ]
  },
  {
   "cell_type": "markdown",
   "id": "f030ba09-2e99-4607-9fdc-d9eba9af0f4a",
   "metadata": {},
   "source": [
    "# Dictionary Function Exercises"
   ]
  },
  {
   "cell_type": "markdown",
   "id": "fd5b038a-f595-4fbb-aa03-ff166ffac773",
   "metadata": {},
   "source": [
    "### 1. Create a dictionary of country capitals. Use get() to retrieve the capital of 'France', with a default value if it’s not in the dictionary."
   ]
  },
  {
   "cell_type": "code",
   "execution_count": 45,
   "id": "452b9f7d-e985-40f1-9138-c2d7f4275705",
   "metadata": {},
   "outputs": [
    {
     "name": "stdout",
     "output_type": "stream",
     "text": [
      "Not Found\n"
     ]
    }
   ],
   "source": [
    "capitals = {\"Egypt\": \"Cairo\", \"UK\": \"London\", \"Japan\": \"Tokyo\"}\n",
    "x = capitals.get(\"France\", \"Not Found\")\n",
    "print(x)"
   ]
  },
  {
   "cell_type": "markdown",
   "id": "f7473ace-2079-4e63-8cf1-95988b5cebbd",
   "metadata": {},
   "source": [
    "### 2. Make a dictionary of programming languages and their popular frameworks. Use keys() to get a list of all languages."
   ]
  },
  {
   "cell_type": "code",
   "execution_count": 47,
   "id": "a08a1186-be39-492b-a637-9b132a19bb03",
   "metadata": {},
   "outputs": [
    {
     "name": "stdout",
     "output_type": "stream",
     "text": [
      "dict_keys(['Python', 'JavaScript', 'Java'])\n"
     ]
    }
   ],
   "source": [
    "languages = {\"Python\": \"Django\", \"JavaScript\": \"React\", \"Java\": \"Spring\"}\n",
    "x = languages.keys()\n",
    "print(x)"
   ]
  },
  {
   "cell_type": "markdown",
   "id": "1d537e50-604b-4a54-ac46-eb3a603c220b",
   "metadata": {},
   "source": [
    "### 3. Using the previous dictionary, get a list of all frameworks using values()."
   ]
  },
  {
   "cell_type": "code",
   "execution_count": 49,
   "id": "e0b3e3f0-e15e-440b-ab30-fbc646fb9690",
   "metadata": {},
   "outputs": [
    {
     "name": "stdout",
     "output_type": "stream",
     "text": [
      "dict_values(['Django', 'React', 'Spring'])\n"
     ]
    }
   ],
   "source": [
    "frameworks = languages.values()\n",
    "print(frameworks)"
   ]
  },
  {
   "cell_type": "markdown",
   "id": "e4603749-8a66-446e-b811-e0f7ba9adfbd",
   "metadata": {},
   "source": [
    "### 4. Use items() to get a list of all key-value pairs in a dictionary representing items and their prices."
   ]
  },
  {
   "cell_type": "code",
   "execution_count": 51,
   "id": "07af56e6-5783-4206-b3d5-833281e5ba75",
   "metadata": {},
   "outputs": [
    {
     "name": "stdout",
     "output_type": "stream",
     "text": [
      "dict_items([('Apple', 40), ('Banana', 30), ('Orange', 20)])\n"
     ]
    }
   ],
   "source": [
    "items = {\"Apple\": 40, \"Banana\": 30, \"Orange\": 20}\n",
    "item_pairs = items.items()\n",
    "print(item_pairs)"
   ]
  },
  {
   "cell_type": "markdown",
   "id": "03e59640-725e-42f4-8504-049c100b2e53",
   "metadata": {},
   "source": [
    "### 5. Create a dictionary with some initial values, and then use update() to add more items."
   ]
  },
  {
   "cell_type": "code",
   "execution_count": 57,
   "id": "bb1a3cf4-d847-40e2-97e7-23c3f8bd365f",
   "metadata": {},
   "outputs": [
    {
     "name": "stdout",
     "output_type": "stream",
     "text": [
      "{'name': 'Ahmed', 'age': 20, 'country': 'Egypt', 'job': 'Engineer'}\n"
     ]
    }
   ],
   "source": [
    "x = {\"name\": \"Ahmed\", \"age\": 20}\n",
    "x.update({\"country\": \"Egypt\", \"job\": \"Engineer\"})\n",
    "print(x)"
   ]
  },
  {
   "cell_type": "markdown",
   "id": "ece96058-c19b-45c3-80d5-00c2d31df930",
   "metadata": {},
   "source": [
    "### 6. Remove an item from a dictionary of students by using pop(), then store the popped value in a variable."
   ]
  },
  {
   "cell_type": "code",
   "execution_count": 55,
   "id": "e4797afc-1926-42bd-b0a3-c4aecd2016e8",
   "metadata": {},
   "outputs": [
    {
     "name": "stdout",
     "output_type": "stream",
     "text": [
      "removed student score : 85\n",
      "{'Ahmed': 90, 'Mohamed': 95}\n"
     ]
    }
   ],
   "source": [
    "students = {\"Ahmed\": 90, \"Ali\": 85, \"Mohamed\": 95}\n",
    "x = students.pop(\"Ali\")\n",
    "print(\"removed student score :\",x)\n",
    "print(students)"
   ]
  },
  {
   "cell_type": "markdown",
   "id": "dbbc7fc8-73d6-4137-b01d-4fac6104ab1d",
   "metadata": {},
   "source": [
    "### 7. Create a dictionary and use clear() to remove all items."
   ]
  },
  {
   "cell_type": "code",
   "execution_count": 53,
   "id": "6c7c96cb-8604-4cf1-8413-62b1de641240",
   "metadata": {},
   "outputs": [
    {
     "name": "stdout",
     "output_type": "stream",
     "text": [
      "{}\n"
     ]
    }
   ],
   "source": [
    "my_dict = {\"key1\": 1, \"key2\": 2}\n",
    "my_dict.clear()\n",
    "print(my_dict)"
   ]
  }
 ],
 "metadata": {
  "kernelspec": {
   "display_name": "Python 3 (ipykernel)",
   "language": "python",
   "name": "python3"
  },
  "language_info": {
   "codemirror_mode": {
    "name": "ipython",
    "version": 3
   },
   "file_extension": ".py",
   "mimetype": "text/x-python",
   "name": "python",
   "nbconvert_exporter": "python",
   "pygments_lexer": "ipython3",
   "version": "3.12.4"
  }
 },
 "nbformat": 4,
 "nbformat_minor": 5
}
