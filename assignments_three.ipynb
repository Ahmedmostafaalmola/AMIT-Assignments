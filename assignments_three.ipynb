{
 "cells": [
  {
   "cell_type": "markdown",
   "id": "dda24742-c233-4c09-8d33-6e78f0e72cfc",
   "metadata": {},
   "source": [
    "# assignments_three :"
   ]
  },
  {
   "cell_type": "markdown",
   "id": "6a296c86-d0da-4681-85a8-90cbf3fa7610",
   "metadata": {},
   "source": [
    "#### 1. Write a Python program to add an item to a tuple."
   ]
  },
  {
   "cell_type": "code",
   "execution_count": 26,
   "id": "6e666f12-cdf7-4bb8-b56b-f6e2b3424bcc",
   "metadata": {},
   "outputs": [
    {
     "name": "stdout",
     "output_type": "stream",
     "text": [
      "(1, 2, 3, 4)\n"
     ]
    }
   ],
   "source": [
    "x = (1, 2, 3)\n",
    "x = x + (4,)\n",
    "print(x)\n"
   ]
  },
  {
   "cell_type": "markdown",
   "id": "24229ce6-feaa-48ce-a810-f0c4b38dd9b5",
   "metadata": {},
   "source": [
    "#### 2. Write a Python program to sum all the items in a list."
   ]
  },
  {
   "cell_type": "code",
   "execution_count": 28,
   "id": "1b71ff29-b790-4ddd-bff3-b11c5057ad11",
   "metadata": {},
   "outputs": [
    {
     "name": "stdout",
     "output_type": "stream",
     "text": [
      "10\n"
     ]
    }
   ],
   "source": [
    "x = [1, 2, 3, 4]\n",
    "total_sum = sum(x)\n",
    "print(total_sum)"
   ]
  },
  {
   "cell_type": "markdown",
   "id": "f76202b0-bc22-4417-8d40-06a8cb524a96",
   "metadata": {},
   "source": [
    "#### 3. Write a Python program to multiply all the items in a list."
   ]
  },
  {
   "cell_type": "code",
   "execution_count": 30,
   "id": "9db3f278-5008-4309-9473-427210129342",
   "metadata": {},
   "outputs": [
    {
     "name": "stdout",
     "output_type": "stream",
     "text": [
      "24\n"
     ]
    }
   ],
   "source": [
    "my_list = [1, 2, 3, 4]\n",
    "x = 1\n",
    "for i in my_list:\n",
    "    x *= i\n",
    "print(x)"
   ]
  },
  {
   "cell_type": "markdown",
   "id": "8992303f-b1f6-464e-ace5-3277bb2ddaf7",
   "metadata": {},
   "source": [
    "#### 4. Write a Python program to get the smallest number from a list."
   ]
  },
  {
   "cell_type": "code",
   "execution_count": 34,
   "id": "1db08257-7cc9-414d-a8aa-fdb3cec6760a",
   "metadata": {},
   "outputs": [
    {
     "name": "stdout",
     "output_type": "stream",
     "text": [
      "1\n"
     ]
    }
   ],
   "source": [
    "my_list = [3, 1, 4, 2]\n",
    "smallest = min(my_list)\n",
    "print(smallest)"
   ]
  },
  {
   "cell_type": "markdown",
   "id": "c0c1f376-cafd-47a8-82cb-ede858ae3188",
   "metadata": {},
   "source": [
    "#### 5. Write a Python program to get the largest number from a list."
   ]
  },
  {
   "cell_type": "code",
   "execution_count": 36,
   "id": "3350ba87-3719-4657-9265-1f7a40ae2875",
   "metadata": {},
   "outputs": [
    {
     "name": "stdout",
     "output_type": "stream",
     "text": [
      "4\n"
     ]
    }
   ],
   "source": [
    "my_list = [3, 1, 4, 2]\n",
    "largest = max(my_list)\n",
    "print(largest)"
   ]
  },
  {
   "cell_type": "markdown",
   "id": "1b692e97-4a8e-460e-9469-87918e40dad4",
   "metadata": {},
   "source": [
    "#### 6. Write a Python program to count the number of strings from a given list of strings."
   ]
  },
  {
   "cell_type": "code",
   "execution_count": 38,
   "id": "f1bd2d59-5e6f-4bdf-b52a-c2e2cacc8110",
   "metadata": {},
   "outputs": [
    {
     "name": "stdout",
     "output_type": "stream",
     "text": [
      "3\n"
     ]
    }
   ],
   "source": [
    "my_list = [\"apple\", \"banana\", \"cherry\"]\n",
    "string_count = len(my_list)\n",
    "print(string_count)"
   ]
  },
  {
   "cell_type": "markdown",
   "id": "f8b22397-83d4-4bb5-874c-f88ce97d1f2b",
   "metadata": {},
   "source": [
    "#### 7. Write a Python program to clone or copy a list."
   ]
  },
  {
   "cell_type": "code",
   "execution_count": 42,
   "id": "8cc7fbfb-033e-43c8-a31e-2afee45b69e3",
   "metadata": {},
   "outputs": [
    {
     "name": "stdout",
     "output_type": "stream",
     "text": [
      "[1, 2, 3]\n"
     ]
    }
   ],
   "source": [
    "x = [1, 2, 3]\n",
    "y = x.copy()\n",
    "print(y)"
   ]
  },
  {
   "cell_type": "markdown",
   "id": "1f335630-4048-4935-9f13-319861df6c6f",
   "metadata": {},
   "source": [
    "#### 8. Write a Python program to remove item(s) from a given set."
   ]
  },
  {
   "cell_type": "code",
   "execution_count": 48,
   "id": "bd510ef5-7133-4c40-8ca0-72c9434c713c",
   "metadata": {},
   "outputs": [
    {
     "name": "stdout",
     "output_type": "stream",
     "text": [
      "{1, 3, 4}\n"
     ]
    }
   ],
   "source": [
    "x = {1, 2, 3, 4}\n",
    "x.remove(2) \n",
    "print(x)"
   ]
  },
  {
   "cell_type": "markdown",
   "id": "6322e5af-4759-4528-a4d4-7657219c060d",
   "metadata": {},
   "source": [
    "#### 9. Write a Python program to check if a set is a subset of another set."
   ]
  },
  {
   "cell_type": "code",
   "execution_count": 53,
   "id": "078d173a-22ef-4511-80e1-ab528b563982",
   "metadata": {},
   "outputs": [
    {
     "name": "stdout",
     "output_type": "stream",
     "text": [
      "True\n"
     ]
    }
   ],
   "source": [
    "set1 = {1, 2}\n",
    "set2 = {1, 2, 3, 4}\n",
    "x = set1.issubset(set2)\n",
    "print(x)"
   ]
  },
  {
   "cell_type": "markdown",
   "id": "4adb92be-870d-4fe7-a900-488f3e9fd3e9",
   "metadata": {},
   "source": [
    "#### 10. Write a Python program to remove all elements from a given set."
   ]
  },
  {
   "cell_type": "code",
   "execution_count": 55,
   "id": "3d446f35-c8ef-4486-9656-6626e6bbd174",
   "metadata": {},
   "outputs": [
    {
     "name": "stdout",
     "output_type": "stream",
     "text": [
      "set()\n"
     ]
    }
   ],
   "source": [
    "x = {1, 2, 3, 4}\n",
    "x.clear()\n",
    "print(x)"
   ]
  },
  {
   "cell_type": "markdown",
   "id": "1408c101-7364-4635-bc14-b8abb2ab3f07",
   "metadata": {},
   "source": [
    "#### 11. Write a Python program to find the maximum and minimum values in a set."
   ]
  },
  {
   "cell_type": "code",
   "execution_count": 57,
   "id": "4a5e9102-fc2e-4b37-8264-b428e9e007f6",
   "metadata": {},
   "outputs": [
    {
     "name": "stdout",
     "output_type": "stream",
     "text": [
      "Max: 4 Min: 1\n"
     ]
    }
   ],
   "source": [
    "x = {1, 2, 3, 4}\n",
    "Max = max(x)\n",
    "Min = min(x)\n",
    "print(\"Max:\", Max, \"Min:\", Min)"
   ]
  },
  {
   "cell_type": "markdown",
   "id": "76a092d4-928d-4e12-a082-6fe1e3658ed5",
   "metadata": {},
   "source": [
    "#### 12. Write a Python program to find the index of an item in a tuple."
   ]
  },
  {
   "cell_type": "code",
   "execution_count": 59,
   "id": "45f93733-6bd6-4c7b-8bac-2113bf1c4fc5",
   "metadata": {},
   "outputs": [
    {
     "name": "stdout",
     "output_type": "stream",
     "text": [
      "2\n"
     ]
    }
   ],
   "source": [
    "x = (10, 20, 30, 40)\n",
    "index = x.index(30)\n",
    "print(index)"
   ]
  },
  {
   "cell_type": "markdown",
   "id": "5a3103ce-a119-43da-abfe-314de1d0c728",
   "metadata": {},
   "source": [
    "#### 13. Write a Python program to convert a tuple to a dictionary."
   ]
  },
  {
   "cell_type": "code",
   "execution_count": 63,
   "id": "78ec2971-d69c-43e1-9e59-1aa53a160735",
   "metadata": {},
   "outputs": [
    {
     "name": "stdout",
     "output_type": "stream",
     "text": [
      "{'key1': 1, 'key2': 2, 'key3': 3}\n"
     ]
    }
   ],
   "source": [
    "my_tuple = ((\"key1\", 1), (\"key2\", 2), (\"key3\", 3))\n",
    "my_dict = dict(my_tuple)\n",
    "print(my_dict)"
   ]
  },
  {
   "cell_type": "markdown",
   "id": "3be89e8c-9033-42ef-82a5-a2ded1fb4e61",
   "metadata": {},
   "source": [
    "#### 14. Write a Python program to unzip a list of tuples into individual lists."
   ]
  },
  {
   "cell_type": "code",
   "execution_count": 10,
   "id": "21c7ed62-00e7-406b-af9f-dd3f1480867b",
   "metadata": {},
   "outputs": [
    {
     "name": "stdout",
     "output_type": "stream",
     "text": [
      "[(1, 3, 5), (2, 4, 6)]\n"
     ]
    }
   ],
   "source": [
    "list1 = [(1, 2), (3, 4), (5, 6)]\n",
    "list2 = list(zip(*list1))\n",
    "print(list2)"
   ]
  },
  {
   "cell_type": "markdown",
   "id": "3e2e5a25-3cfc-4e91-8da5-55a7f9092df3",
   "metadata": {},
   "source": [
    "#### 15. Write a Python program to reverse a tuple."
   ]
  },
  {
   "cell_type": "code",
   "execution_count": 70,
   "id": "d1704500-fdea-4d58-b128-09d184327962",
   "metadata": {},
   "outputs": [
    {
     "name": "stdout",
     "output_type": "stream",
     "text": [
      "(3, 2, 1)\n"
     ]
    }
   ],
   "source": [
    "my_tuple = (1, 2, 3)\n",
    "x = my_tuple[::-1]\n",
    "print(x)"
   ]
  },
  {
   "cell_type": "markdown",
   "id": "3781ae4d-4f0d-49e1-b8b9-7d4b2950b2de",
   "metadata": {},
   "source": [
    "#### 16. Write a Python program to convert a list of tuples into a dictionary."
   ]
  },
  {
   "cell_type": "code",
   "execution_count": 67,
   "id": "0426fa8a-4a6f-4326-9509-6dcbd394f388",
   "metadata": {},
   "outputs": [
    {
     "name": "stdout",
     "output_type": "stream",
     "text": [
      "{'key1': 1, 'key2': 2, 'key3': 3}\n"
     ]
    }
   ],
   "source": [
    "my_list = [(\"key1\", 1), (\"key2\", 2), (\"key3\", 3)]\n",
    "my_dict = dict(my_list)\n",
    "print(my_dict)"
   ]
  },
  {
   "cell_type": "markdown",
   "id": "61e35435-d5d6-45e1-be15-d6c193b7aa94",
   "metadata": {},
   "source": [
    "#### 17. Write a Python program to replace the last value of tuples in a list. \n",
    "##### Sample list: [(10, 20, 40), (40, 50, 60), (70, 80, 90)] \n",
    "##### Expected Output: [(10, 20, 100), (40, 50, 100), (70, 80, 100)]"
   ]
  },
  {
   "cell_type": "code",
   "execution_count": 72,
   "id": "4a0d69f0-ce45-4aee-8c7d-1ca9e7f92b45",
   "metadata": {},
   "outputs": [
    {
     "name": "stdout",
     "output_type": "stream",
     "text": [
      "[(10, 20, 100), (40, 50, 100), (70, 80, 100)]\n"
     ]
    }
   ],
   "source": [
    "my_list = [(10, 20, 40), (40, 50, 60), (70, 80, 90)]\n",
    "my_list = [i[:-1] + (100,) for i in my_list]\n",
    "print(my_list)"
   ]
  },
  {
   "cell_type": "markdown",
   "id": "a3fe10f3-7ba3-4127-b3e1-4c6f8ad822bd",
   "metadata": {},
   "source": [
    "#### 18. Write a Python program to sort a tuple by its float element."
   ]
  },
  {
   "cell_type": "code",
   "execution_count": 12,
   "id": "70403d7d-f5fb-4046-855d-aa7b07854c4b",
   "metadata": {},
   "outputs": [
    {
     "name": "stdout",
     "output_type": "stream",
     "text": [
      "(('mohamed', 70), ('ali', 83), ('ahmed', 95))\n"
     ]
    }
   ],
   "source": [
    "tuple1 = (('ahmed', 95), ('ali', 83), ('mohamed', 70))\n",
    "tuple2 = tuple(sorted(tuple1, key=lambda x: x[1]))\n",
    "print(tuple2)"
   ]
  }
 ],
 "metadata": {
  "kernelspec": {
   "display_name": "Python 3 (ipykernel)",
   "language": "python",
   "name": "python3"
  },
  "language_info": {
   "codemirror_mode": {
    "name": "ipython",
    "version": 3
   },
   "file_extension": ".py",
   "mimetype": "text/x-python",
   "name": "python",
   "nbconvert_exporter": "python",
   "pygments_lexer": "ipython3",
   "version": "3.12.4"
  }
 },
 "nbformat": 4,
 "nbformat_minor": 5
}
