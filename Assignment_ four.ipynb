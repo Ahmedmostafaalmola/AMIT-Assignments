{
 "cells": [
  {
   "cell_type": "markdown",
   "id": "58af83b2-5c61-4452-b104-c6df2acaa6e1",
   "metadata": {},
   "source": [
    "# Assignment_ four :"
   ]
  },
  {
   "cell_type": "markdown",
   "id": "a4d24fe6-b659-41b3-8ac0-de4b2307a44e",
   "metadata": {},
   "source": [
    "### 1. Implement Fibonacci series using recursion."
   ]
  },
  {
   "cell_type": "code",
   "execution_count": 7,
   "id": "9dca5eb5-d813-4f70-a9d7-65f8042f1c3e",
   "metadata": {},
   "outputs": [
    {
     "name": "stdout",
     "output_type": "stream",
     "text": [
      "0\n",
      "1\n",
      "1\n",
      "2\n",
      "3\n",
      "5\n",
      "8\n",
      "13\n",
      "21\n",
      "34\n"
     ]
    }
   ],
   "source": [
    "def fibonacci(n):\n",
    "    if n <= 1:\n",
    "        return n\n",
    "    else:\n",
    "        return fibonacci(n - 1) + fibonacci(n - 2)\n",
    "for i in range(10):\n",
    "    print(fibonacci(i))"
   ]
  },
  {
   "cell_type": "markdown",
   "id": "50056d17-b3ec-4c5c-977e-4654168bbf7d",
   "metadata": {},
   "source": [
    "### 2. Write a Python program to find all the unique words and count the frequency of occurrence from a given list of strings."
   ]
  },
  {
   "cell_type": "code",
   "execution_count": 1,
   "id": "3f9a0e79-962c-4857-a381-ec5fd3bae018",
   "metadata": {},
   "outputs": [
    {
     "name": "stdout",
     "output_type": "stream",
     "text": [
      "{'hello': 2, 'world': 2, 'of': 1, 'Python': 2}\n"
     ]
    }
   ],
   "source": [
    "def unique_words_frequency(strings):\n",
    "    word_count = {}\n",
    "    for string in strings:\n",
    "        words = string.split()\n",
    "        for word in words:\n",
    "            word_count[word] = word_count.get(word, 0) + 1\n",
    "    return word_count\n",
    "strings = [\"hello world\", \"world of Python\", \"hello Python\"]\n",
    "print(unique_words_frequency(strings))"
   ]
  },
  {
   "cell_type": "markdown",
   "id": "a1654805-e104-4ddf-abf1-85bd2bb9712f",
   "metadata": {},
   "source": [
    "### 3. Write a Python program that finds all pairs of elements in a list whose sum is equal to a given value."
   ]
  },
  {
   "cell_type": "code",
   "execution_count": 4,
   "id": "0f8e273f-92aa-4070-84a3-d302ba70fdaf",
   "metadata": {},
   "outputs": [
    {
     "name": "stdout",
     "output_type": "stream",
     "text": [
      "[(4, 2), (1, 5)]\n"
     ]
    }
   ],
   "source": [
    "def find_pairs(lst, target_sum):\n",
    "    pairs = []\n",
    "    seen = set()\n",
    "    for num in lst:\n",
    "        diff = target_sum - num\n",
    "        if diff in seen:\n",
    "            pairs.append((num, diff))\n",
    "        seen.add(num)\n",
    "    return pairs\n",
    "lst = [2, 4, 3, 5, 7, 8, 1]\n",
    "target_sum = 6\n",
    "print(find_pairs(lst, target_sum))"
   ]
  },
  {
   "cell_type": "markdown",
   "id": "239db387-c957-4e82-8f4b-2f5d3da30412",
   "metadata": {},
   "source": [
    "### 4. Write a Python program to find the two numbers whose product is maximum among all the pairs in a given list of numbers"
   ]
  },
  {
   "cell_type": "code",
   "execution_count": 6,
   "id": "993eeee4-795b-401a-a3e0-a726cdc5d261",
   "metadata": {},
   "outputs": [
    {
     "name": "stdout",
     "output_type": "stream",
     "text": [
      "600\n"
     ]
    }
   ],
   "source": [
    "def max_product(lst):\n",
    "    if len(lst) < 2:\n",
    "        return None\n",
    "    lst.sort()\n",
    "    return lst[-1] * lst[-2]\n",
    "lst = [10, 20, 5, 30]\n",
    "print(max_product(lst))"
   ]
  },
  {
   "cell_type": "markdown",
   "id": "b91943c8-bd4b-4eff-8ae7-698672960dee",
   "metadata": {},
   "source": [
    "### 5. Write a Python function that takes a number as a parameter and checks whether the number is prime or not."
   ]
  },
  {
   "cell_type": "code",
   "execution_count": null,
   "id": "6023a2ea-8dbc-4f93-97a4-c067bebf9820",
   "metadata": {},
   "outputs": [],
   "source": [
    "def is_prime(n):\n",
    "    if n <= 1:\n",
    "        return False\n",
    "    for i in range(2, int(n ** 0.5) + 1):\n",
    "        if n % i == 0:\n",
    "            return False\n",
    "    return True\n",
    "print(is_prime(29))"
   ]
  },
  {
   "cell_type": "markdown",
   "id": "9f6f0d48-f24d-4793-8ee7-eff129722fa0",
   "metadata": {},
   "source": [
    "### 6. Write a Python function to print the even numbers from a given list."
   ]
  },
  {
   "cell_type": "code",
   "execution_count": 8,
   "id": "365edb0a-392d-4ebe-8169-03465a20ade5",
   "metadata": {},
   "outputs": [
    {
     "name": "stdout",
     "output_type": "stream",
     "text": [
      "[2, 4, 6]\n"
     ]
    }
   ],
   "source": [
    "def print_even_numbers(lst):\n",
    "    return [num for num in lst if num % 2 == 0]\n",
    "lst = [1, 2, 3, 4, 5, 6]\n",
    "print(print_even_numbers(lst))"
   ]
  },
  {
   "cell_type": "markdown",
   "id": "a7c897a1-1810-4c07-8001-1dfb477072b2",
   "metadata": {},
   "source": [
    "### 7. Write a function that will take a given string and reverse the order of words.\n",
    "###            Ex:\n",
    "###            “Hello world” →”world Hello”"
   ]
  },
  {
   "cell_type": "code",
   "execution_count": 10,
   "id": "d0b7a22f-c6ad-4f8c-a21e-5d227242c59a",
   "metadata": {},
   "outputs": [
    {
     "name": "stdout",
     "output_type": "stream",
     "text": [
      "world Hello\n"
     ]
    }
   ],
   "source": [
    "def reverse_words(s):\n",
    "    return \" \".join(s.split()[::-1])\n",
    "print(reverse_words(\"Hello world\"))"
   ]
  },
  {
   "cell_type": "markdown",
   "id": "b0ea27ab-b08f-4f72-bc83-73e197e5e39e",
   "metadata": {},
   "source": [
    "### 8. Given an integer x, return true if x is a palindrome, and false otherwise.\n",
    "### Example 1: \n",
    "### Input: x = 121 \n",
    "### Output: true \n",
    "### Explanation: 121 reads as 121 from left to right and from right to left. \n",
    "### Example 2:\n",
    "### Input: x = -121 \n",
    "### Output: false \n",
    "### Explanation: From left to right, it reads -121. From right to left, it becomes 121-. Therefore, it is not a palindrome.\n",
    "### Example 3:\n",
    "### Input: x = 10 \n",
    "### Output: false\n",
    "### Explanation: Reads 01 from right to left. Therefore, it is not a palindrome."
   ]
  },
  {
   "cell_type": "code",
   "execution_count": 16,
   "id": "43e50789-bcd6-4863-abca-00167ce4135d",
   "metadata": {},
   "outputs": [
    {
     "name": "stdout",
     "output_type": "stream",
     "text": [
      "True\n",
      "False\n",
      "False\n"
     ]
    }
   ],
   "source": [
    "def palindrome_number(x):\n",
    "    return str(x) == str(x)[::-1]\n",
    "print(palindrome_number(121))  \n",
    "print(palindrome_number(-121)) \n",
    "print(palindrome_number(10)) "
   ]
  },
  {
   "cell_type": "markdown",
   "id": "0cb047e9-39f3-483d-9659-c7984552fac8",
   "metadata": {},
   "source": [
    "### 9. Write a Python function that checks whether a passed string is a palindrome or not."
   ]
  },
  {
   "cell_type": "code",
   "execution_count": 18,
   "id": "598cb02f-eef3-4ac4-85c4-dae5d32729fe",
   "metadata": {},
   "outputs": [
    {
     "name": "stdout",
     "output_type": "stream",
     "text": [
      "True\n"
     ]
    }
   ],
   "source": [
    "def is_palindrome_string(s):\n",
    "    s = s.lower()\n",
    "    return s == s[::-1]\n",
    "print(is_palindrome_string(\"madam\"))  "
   ]
  },
  {
   "cell_type": "markdown",
   "id": "6f95816b-1192-4e0e-85af-57ad5391d71a",
   "metadata": {},
   "source": [
    "### 10. Write a Python function to create and print a list where the values are the squares of numbers between 1 and 30 (both included)."
   ]
  },
  {
   "cell_type": "code",
   "execution_count": 11,
   "id": "99b41e86-80f8-4a94-928e-42c1bebb73f8",
   "metadata": {},
   "outputs": [
    {
     "name": "stdout",
     "output_type": "stream",
     "text": [
      "[1, 4, 9, 16, 25, 36, 49, 64, 81, 100, 121, 144, 169, 196, 225, 256, 289, 324, 361, 400, 441, 484, 529, 576, 625, 676, 729, 784, 841, 900]\n"
     ]
    }
   ],
   "source": [
    "def squares_list():\n",
    "    return [x ** 2 for x in range(1, 31)]\n",
    "print(squares_list())"
   ]
  }
 ],
 "metadata": {
  "kernelspec": {
   "display_name": "Python 3 (ipykernel)",
   "language": "python",
   "name": "python3"
  },
  "language_info": {
   "codemirror_mode": {
    "name": "ipython",
    "version": 3
   },
   "file_extension": ".py",
   "mimetype": "text/x-python",
   "name": "python",
   "nbconvert_exporter": "python",
   "pygments_lexer": "ipython3",
   "version": "3.12.4"
  }
 },
 "nbformat": 4,
 "nbformat_minor": 5
}
